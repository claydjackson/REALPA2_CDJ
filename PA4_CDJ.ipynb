{
 "cells": [
  {
   "cell_type": "markdown",
   "id": "8dc54f61",
   "metadata": {},
   "source": [
    "# Programming Assignment 4\n",
    "# Clay Jackson\n",
    "# Version 1\n",
    "# CS-150 Spring 2023"
   ]
  },
  {
   "cell_type": "markdown",
   "id": "08dcf116",
   "metadata": {},
   "source": [
    "## Lists"
   ]
  },
  {
   "cell_type": "markdown",
   "id": "224aa779",
   "metadata": {},
   "source": [
    "### The **append()** adds items to the end of a list without affecting any of the other elements in the list."
   ]
  },
  {
   "cell_type": "code",
   "execution_count": 1,
   "id": "b045869d",
   "metadata": {},
   "outputs": [],
   "source": [
    "List=[]\n",
    "List.append('Clay')\n",
    "List.append('Mike')\n",
    "List.append('Joe')"
   ]
  },
  {
   "cell_type": "code",
   "execution_count": 2,
   "id": "c3d64054",
   "metadata": {},
   "outputs": [
    {
     "name": "stdout",
     "output_type": "stream",
     "text": [
      "['Clay', 'Mike', 'Joe']\n"
     ]
    }
   ],
   "source": [
    "print(List)"
   ]
  },
  {
   "cell_type": "markdown",
   "id": "2e0f4c7d",
   "metadata": {},
   "source": [
    "### The extend() method adds each iterable element to the end of a list."
   ]
  },
  {
   "cell_type": "code",
   "execution_count": 3,
   "id": "0d8b1acf",
   "metadata": {},
   "outputs": [
    {
     "name": "stdout",
     "output_type": "stream",
     "text": [
      "['Clay', 'Mike', 'Joe', 'S', 't', 'e', 'v', 'e']\n"
     ]
    }
   ],
   "source": [
    "List.extend('Steve')\n",
    "print(List)"
   ]
  },
  {
   "cell_type": "markdown",
   "id": "8a7239df",
   "metadata": {},
   "source": [
    "### The insert() method allows you to add new elements to the list at any position. Call by index number."
   ]
  },
  {
   "cell_type": "code",
   "execution_count": 4,
   "id": "1aad1e62",
   "metadata": {},
   "outputs": [
    {
     "name": "stdout",
     "output_type": "stream",
     "text": [
      "['Clay', 'Mike', 'Scott', 'Joe', 'S', 't', 'e', 'v', 'e']\n"
     ]
    }
   ],
   "source": [
    "List.insert(2,'Scott')\n",
    "print(List)"
   ]
  },
  {
   "cell_type": "markdown",
   "id": "1646f439",
   "metadata": {},
   "source": [
    "### The remove() method allows you to remove an item from a list by calling the value of the item."
   ]
  },
  {
   "cell_type": "code",
   "execution_count": 5,
   "id": "519732d1",
   "metadata": {},
   "outputs": [
    {
     "name": "stdout",
     "output_type": "stream",
     "text": [
      "['Clay', 'Mike', 'Joe', 'S', 't', 'e', 'v', 'e']\n"
     ]
    }
   ],
   "source": [
    "List.remove('Scott')\n",
    "print(List)"
   ]
  },
  {
   "cell_type": "markdown",
   "id": "09c57f45",
   "metadata": {},
   "source": [
    "### The count method returns the number of times an element appears in a list."
   ]
  },
  {
   "cell_type": "code",
   "execution_count": 6,
   "id": "9507bab4",
   "metadata": {},
   "outputs": [
    {
     "data": {
      "text/plain": [
       "1"
      ]
     },
     "execution_count": 6,
     "metadata": {},
     "output_type": "execute_result"
    }
   ],
   "source": [
    "List\n",
    "List.count('Mike')"
   ]
  },
  {
   "cell_type": "markdown",
   "id": "ce3f29d8",
   "metadata": {},
   "source": [
    "### The index() method returns the index of the item whose value equals said index."
   ]
  },
  {
   "cell_type": "code",
   "execution_count": 7,
   "id": "fc929b2b",
   "metadata": {},
   "outputs": [
    {
     "data": {
      "text/plain": [
       "0"
      ]
     },
     "execution_count": 7,
     "metadata": {},
     "output_type": "execute_result"
    }
   ],
   "source": [
    "List.index('Clay')"
   ]
  },
  {
   "cell_type": "markdown",
   "id": "34376f4c",
   "metadata": {},
   "source": [
    "### The pop() method removes the last item of a list. It can also remove any item in the list if given the index number."
   ]
  },
  {
   "cell_type": "code",
   "execution_count": 8,
   "id": "812d2f16",
   "metadata": {},
   "outputs": [
    {
     "data": {
      "text/plain": [
       "'e'"
      ]
     },
     "execution_count": 8,
     "metadata": {},
     "output_type": "execute_result"
    }
   ],
   "source": [
    "List.pop()"
   ]
  },
  {
   "cell_type": "code",
   "execution_count": 9,
   "id": "67cb4fcf",
   "metadata": {},
   "outputs": [
    {
     "data": {
      "text/plain": [
       "'Clay'"
      ]
     },
     "execution_count": 9,
     "metadata": {},
     "output_type": "execute_result"
    }
   ],
   "source": [
    "List.pop(0)"
   ]
  },
  {
   "cell_type": "markdown",
   "id": "723bc7be",
   "metadata": {},
   "source": [
    "### The sorted() method let's you temporarily display your list in a particular order but doesn't affect the actual order of the lsit."
   ]
  },
  {
   "cell_type": "code",
   "execution_count": 10,
   "id": "d6465f67",
   "metadata": {},
   "outputs": [],
   "source": [
    "numbers=[15,99,200,42]"
   ]
  },
  {
   "cell_type": "code",
   "execution_count": 12,
   "id": "fbe2296c",
   "metadata": {},
   "outputs": [
    {
     "data": {
      "text/plain": [
       "[15, 42, 99, 200]"
      ]
     },
     "execution_count": 12,
     "metadata": {},
     "output_type": "execute_result"
    }
   ],
   "source": [
    "sorted(numbers)"
   ]
  },
  {
   "cell_type": "code",
   "execution_count": 14,
   "id": "2f96db57",
   "metadata": {},
   "outputs": [
    {
     "data": {
      "text/plain": [
       "[15, 99, 200, 42]"
      ]
     },
     "execution_count": 14,
     "metadata": {},
     "output_type": "execute_result"
    }
   ],
   "source": [
    "numbers # Back to the original order"
   ]
  },
  {
   "cell_type": "markdown",
   "id": "c41f0604",
   "metadata": {},
   "source": [
    "### The copy() method returns a shallow copy of a list."
   ]
  },
  {
   "cell_type": "code",
   "execution_count": 16,
   "id": "81b75466",
   "metadata": {},
   "outputs": [
    {
     "name": "stdout",
     "output_type": "stream",
     "text": [
      "[10, 20, 30, 40]\n",
      "[10, 20, 30, 40]\n"
     ]
    }
   ],
   "source": [
    "list_A=[10,20,30,40]\n",
    "print(list_A)\n",
    "list_B=list_A.copy()\n",
    "print(list_B)"
   ]
  },
  {
   "cell_type": "markdown",
   "id": "787f86cf",
   "metadata": {},
   "source": [
    "### The clear() method removes all the elements from a list."
   ]
  },
  {
   "cell_type": "code",
   "execution_count": 17,
   "id": "bee52177",
   "metadata": {},
   "outputs": [
    {
     "data": {
      "text/plain": [
       "[10, 20, 30, 40]"
      ]
     },
     "execution_count": 17,
     "metadata": {},
     "output_type": "execute_result"
    }
   ],
   "source": [
    "list_A"
   ]
  },
  {
   "cell_type": "code",
   "execution_count": 19,
   "id": "063cb522",
   "metadata": {},
   "outputs": [
    {
     "data": {
      "text/plain": [
       "[]"
      ]
     },
     "execution_count": 19,
     "metadata": {},
     "output_type": "execute_result"
    }
   ],
   "source": [
    "list_A.clear()\n",
    "list_A"
   ]
  },
  {
   "cell_type": "markdown",
   "id": "4252c2b3",
   "metadata": {},
   "source": [
    "### The list() method identifies a variable as a list."
   ]
  },
  {
   "cell_type": "code",
   "execution_count": 21,
   "id": "be130698",
   "metadata": {},
   "outputs": [
    {
     "data": {
      "text/plain": [
       "list"
      ]
     },
     "execution_count": 21,
     "metadata": {},
     "output_type": "execute_result"
    }
   ],
   "source": [
    "Example=list()\n",
    "type(Example)"
   ]
  },
  {
   "cell_type": "markdown",
   "id": "1e3af6ad",
   "metadata": {},
   "source": [
    "## Tuple"
   ]
  },
  {
   "cell_type": "markdown",
   "id": "478b4b0d",
   "metadata": {},
   "source": [
    "### The len() finds the length of a list or tuple."
   ]
  },
  {
   "cell_type": "code",
   "execution_count": 23,
   "id": "1008e814",
   "metadata": {},
   "outputs": [
    {
     "data": {
      "text/plain": [
       "tuple"
      ]
     },
     "execution_count": 23,
     "metadata": {},
     "output_type": "execute_result"
    }
   ],
   "source": [
    "food=('pizza','steak','tacos')\n",
    "type(food)"
   ]
  },
  {
   "cell_type": "code",
   "execution_count": 24,
   "id": "6955cf39",
   "metadata": {},
   "outputs": [
    {
     "data": {
      "text/plain": [
       "3"
      ]
     },
     "execution_count": 24,
     "metadata": {},
     "output_type": "execute_result"
    }
   ],
   "source": [
    "len (food)"
   ]
  },
  {
   "cell_type": "markdown",
   "id": "03905efb",
   "metadata": {},
   "source": [
    "### The max() function returns the item with the highest value."
   ]
  },
  {
   "cell_type": "code",
   "execution_count": 25,
   "id": "23ef140b",
   "metadata": {},
   "outputs": [
    {
     "data": {
      "text/plain": [
       "100"
      ]
     },
     "execution_count": 25,
     "metadata": {},
     "output_type": "execute_result"
    }
   ],
   "source": [
    "numbers=(2,33,44,55,67,76,89,100)\n",
    "max(numbers)"
   ]
  },
  {
   "cell_type": "markdown",
   "id": "daf19363",
   "metadata": {},
   "source": [
    "### The min() function returns the item with the lowest value."
   ]
  },
  {
   "cell_type": "code",
   "execution_count": 26,
   "id": "a29d5dfc",
   "metadata": {},
   "outputs": [
    {
     "data": {
      "text/plain": [
       "2"
      ]
     },
     "execution_count": 26,
     "metadata": {},
     "output_type": "execute_result"
    }
   ],
   "source": [
    "min(numbers)"
   ]
  },
  {
   "cell_type": "code",
   "execution_count": null,
   "id": "e97ba946",
   "metadata": {},
   "outputs": [],
   "source": []
  }
 ],
 "metadata": {
  "kernelspec": {
   "display_name": "Python 3 (ipykernel)",
   "language": "python",
   "name": "python3"
  },
  "language_info": {
   "codemirror_mode": {
    "name": "ipython",
    "version": 3
   },
   "file_extension": ".py",
   "mimetype": "text/x-python",
   "name": "python",
   "nbconvert_exporter": "python",
   "pygments_lexer": "ipython3",
   "version": "3.9.13"
  }
 },
 "nbformat": 4,
 "nbformat_minor": 5
}
